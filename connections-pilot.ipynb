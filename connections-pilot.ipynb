{
 "cells": [
  {
   "cell_type": "markdown",
   "id": "302a65de",
   "metadata": {},
   "source": [
    "# Connections Pilot Notebook"
   ]
  },
  {
   "cell_type": "markdown",
   "id": "b23e9d75",
   "metadata": {},
   "source": [
    "Purpose is to use Selenium to query past Connections games and answers.\n",
    "\n",
    "By: Elsie Wang\n",
    "\n",
    "Date: 03/18/24"
   ]
  },
  {
   "cell_type": "markdown",
   "id": "0e52d5e6",
   "metadata": {},
   "source": [
    "## Overhead"
   ]
  },
  {
   "cell_type": "code",
   "execution_count": 1,
   "id": "9b8dac16",
   "metadata": {},
   "outputs": [],
   "source": [
    "# Imports\n",
    "import re\n",
    "import logging\n",
    "import os\n",
    "import time\n",
    "import random\n",
    "import csv\n",
    "\n",
    "import pandas as pd\n",
    "import numpy as np\n",
    "\n",
    "from selenium import webdriver\n",
    "from selenium.webdriver.chrome.options import Options\n",
    "from bs4 import BeautifulSoup\n",
    "from collections import defaultdict\n",
    "from tqdm.notebook import tqdm\n",
    "from selenium.webdriver.common.by import By\n",
    "\n",
    "from util import *\n",
    "from matplotlib import pyplot as plt\n",
    "import scipy.stats as stats"
   ]
  },
  {
   "cell_type": "code",
   "execution_count": 2,
   "id": "eef221ab",
   "metadata": {},
   "outputs": [],
   "source": [
    "# Setup logger\n",
    "if not os.path.exists('../logs/'):\n",
    "    os.mkdir('../logs/')\n",
    "if not os.path.exists('../logs/connections-pilot.log'):\n",
    "    open('../logs/connections-pilot.log', 'a').close()\n",
    "\n",
    "logging.basicConfig(\n",
    "    filename='../logs/connections-pilot.log',\n",
    "    filemode='w',\n",
    "    format='%(asctime)s %(message)s',\n",
    "    datefmt='%m/%d/%Y %I:%M:%S %p',\n",
    "    level=logging.DEBUG\n",
    ")"
   ]
  },
  {
   "cell_type": "code",
   "execution_count": 3,
   "id": "f99eaad2",
   "metadata": {},
   "outputs": [],
   "source": [
    "# Setup Webdriver Options\n",
    "options = Options()\n",
    "\n",
    "options.add_argument(\"--disable-notifications\")\n",
    "options.add_argument(\"--incognito\")\n",
    "options.add_experimental_option(\"prefs\", {\"plugins.plugins_list\": [{\"enabled\": False, \"name\": \"Chrome PDF Viewer\"}]})\n",
    "options.add_experimental_option(\"excludeSwitches\", [\"enable-automation\"])\n",
    "options.add_experimental_option('useAutomationExtension', False)\n",
    "options.add_argument(\"--start-maximized\")\n",
    "options.add_argument(\"--disable-blink-features\")\n",
    "options.add_argument('--disable-extensions')\n",
    "options.add_argument(\"--no-sandbox\")\n",
    "\n",
    "options.binary_location = \"/usr/local/bin/webdriver\""
   ]
  },
  {
   "cell_type": "code",
   "execution_count": 26,
   "id": "213cb188",
   "metadata": {},
   "outputs": [
    {
     "name": "stdout",
     "output_type": "stream",
     "text": [
      "Internet connected:  True\n"
     ]
    }
   ],
   "source": [
    "# Setup Selenium\n",
    "print(\"Internet connected: \", internet())\n",
    "driver = webdriver.Chrome(options=options)"
   ]
  },
  {
   "cell_type": "markdown",
   "id": "f4548664",
   "metadata": {},
   "source": [
    "## Collection"
   ]
  },
  {
   "cell_type": "code",
   "execution_count": 27,
   "id": "b1bb8e81",
   "metadata": {},
   "outputs": [],
   "source": [
    "# Maps classes of buttons (categories) to difficulty level color\n",
    "color_map = {\n",
    "\"chakra-button css-1t45e3y\":\"purple\",\n",
    "\"chakra-button css-1febctu\": \"yellow\",\n",
    "\"chakra-button css-nlwqpb\": \"blue\",\n",
    "\"chakra-button css-1p5tzem\": \"green\"}"
   ]
  },
  {
   "cell_type": "code",
   "execution_count": 28,
   "id": "8a978c4b",
   "metadata": {},
   "outputs": [],
   "source": [
    "def connections_search(query, driver):\n",
    "    \"\"\" Searches for given game number on ChromeDriver\n",
    "    \"\"\"\n",
    "    if internet():\n",
    "        try:\n",
    "            url = f\"https://connectionsplus.io/game/{query}\"\n",
    "            driver.get(url)\n",
    "            time.sleep(2)\n",
    "            return driver.page_source\n",
    "        except CAPTCHAException:\n",
    "            return driver.page_source\n",
    "    else:\n",
    "        print(\"No internet\")\n",
    "        return None"
   ]
  },
  {
   "cell_type": "code",
   "execution_count": 29,
   "id": "0877c009",
   "metadata": {},
   "outputs": [],
   "source": [
    "def play_game():\n",
    "    \"\"\" Driver randomly guesses four words each turn until it loses\n",
    "    \"\"\"\n",
    "    while(len(driver.find_elements(By.CLASS_NAME, \"css-os1u4x\")) > 0):\n",
    "        buttons = driver.find_elements(By.CLASS_NAME, \"css-butdwn\")\n",
    "        sampled_buttons = random.sample(buttons, 4)\n",
    "        for button in sampled_buttons:\n",
    "            button.click()\n",
    "        driver.find_elements(By.CLASS_NAME, \"css-dhvdts\")[0].click() # Submit button\n",
    "        driver.find_elements(By.CLASS_NAME, \"css-vpdppp\")[1].click() # Deselect All button\n",
    "    time.sleep(5.5)\n",
    "    driver.find_elements(By.CLASS_NAME, \"css-onkibi\")[0].click() #Exit 'X' to see answers"
   ]
  },
  {
   "cell_type": "code",
   "execution_count": 30,
   "id": "13caeb01",
   "metadata": {},
   "outputs": [],
   "source": [
    "def parse_game(raw_html, query, game_id):\n",
    "    \"\"\" Plays the connection game and collects answers\n",
    "    \"\"\"\n",
    "    all_words = []\n",
    "    content1 = []\n",
    "    play_game()\n",
    "\n",
    "    buttons = driver.find_elements(By.TAG_NAME, \"button\") # Collects all buttons\n",
    "    categories = driver.find_elements(By.CLASS_NAME, \"css-1gxnet\") # Collects all 4 categories\n",
    "    words = driver.find_elements(By.CLASS_NAME, \"css-z9cpgb\") # Collects all 16 words\n",
    "    \n",
    "    # Iterates through each category and adds all info to dictionary\n",
    "    for i in range(4):\n",
    "        try:\n",
    "            category = categories[i].text\n",
    "            word_answers = words[i].text.split(', ')\n",
    "            color = color_map[buttons[i].get_attribute(\"class\")]\n",
    "            all_words += word_answers\n",
    "            content1.append(f\"{game_id},{word_answers},{category},{color}\\n\")\n",
    "        except Exception as e:\n",
    "            logging.debug(f'Failed to parse ad HTML on query: {query}')\n",
    "    random.shuffle(all_words)\n",
    "    content2 = f\"{game_id},{all_words}\\n\"\n",
    "    return content1, content2"
   ]
  },
  {
   "cell_type": "code",
   "execution_count": 32,
   "id": "371ae0ab",
   "metadata": {},
   "outputs": [
    {
     "data": {
      "application/vnd.jupyter.widget-view+json": {
       "model_id": "79de41ae438a42849527af1abfc1425d",
       "version_major": 2,
       "version_minor": 0
      },
      "text/plain": [
       "  0%|          | 0/188 [00:00<?, ?it/s]"
      ]
     },
     "metadata": {},
     "output_type": "display_data"
    }
   ],
   "source": [
    "# Collect all answers to games from game 1 to game 282\n",
    "all_games = np.arange(1, 283)\n",
    "\n",
    "with open(\"answers.csv\", \"a\") as file1, open(\"prompt.csv\", \"a\") as file2:\n",
    "    # Write the header\n",
    "    file1.write(\"Game_ID,Words,Category,Color\\n\")\n",
    "    file2.write(\"Game_ID,Words\\n\")\n",
    "    \n",
    "    # Iterate over each item in the range\n",
    "    for game in tqdm(all_games):\n",
    "        query = f\"{game}\"\n",
    "        raw_html = connections_search(query, driver)\n",
    "        content1, content2 = parse_game(raw_html, query, game)\n",
    "        \n",
    "        for content in content1:\n",
    "            file1.write(content)\n",
    "        file2.write(content2)"
   ]
  },
  {
   "cell_type": "code",
   "execution_count": null,
   "id": "a1f6a63a",
   "metadata": {},
   "outputs": [],
   "source": []
  }
 ],
 "metadata": {
  "kernelspec": {
   "display_name": "Python 3 (ipykernel)",
   "language": "python",
   "name": "python3"
  },
  "language_info": {
   "codemirror_mode": {
    "name": "ipython",
    "version": 3
   },
   "file_extension": ".py",
   "mimetype": "text/x-python",
   "name": "python",
   "nbconvert_exporter": "python",
   "pygments_lexer": "ipython3",
   "version": "3.10.9"
  }
 },
 "nbformat": 4,
 "nbformat_minor": 5
}
