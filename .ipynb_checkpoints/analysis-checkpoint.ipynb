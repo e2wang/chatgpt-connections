{
 "cells": [
  {
   "cell_type": "markdown",
   "id": "924a687d",
   "metadata": {},
   "source": [
    "# Connections Pilot Notebook"
   ]
  },
  {
   "cell_type": "markdown",
   "id": "0bc57752",
   "metadata": {},
   "source": [
    "Purpose is to evaluate the performance of ChatGPT on Connections game.\n",
    "\n",
    "By: Elsie Wang\n",
    "\n",
    "Date: 03/18/24"
   ]
  },
  {
   "cell_type": "markdown",
   "id": "a2feaf87",
   "metadata": {},
   "source": [
    "### Overhead"
   ]
  },
  {
   "cell_type": "code",
   "execution_count": 45,
   "id": "408dc05e",
   "metadata": {},
   "outputs": [],
   "source": [
    "# Imports\n",
    "import pandas as pd\n",
    "import matplotlib.pyplot as plt\n",
    "import seaborn as sns\n",
    "import numpy as np\n",
    "from tqdm import tqdm\n",
    "from json import load\n",
    "import openai\n",
    "\n",
    "from transformers import AutoTokenizer"
   ]
  },
  {
   "cell_type": "code",
   "execution_count": 46,
   "id": "1fb26e31",
   "metadata": {},
   "outputs": [],
   "source": [
    "from json import load\n",
    "\n",
    "KEY = load(open('./SECRETS.json', 'r'))\n",
    "client = OpenAI(api_key=KEY['OpenAIKey'])"
   ]
  },
  {
   "cell_type": "code",
   "execution_count": 47,
   "id": "f3c2a5ef",
   "metadata": {},
   "outputs": [],
   "source": [
    "def run_eval():\n",
    "    instructions = \"Find groups of four items that share something in common. Category Examples\\nFISH: Bass, Flounder, Salmon, Trout\\nFIRE ___:\\nAnt, Drill, Island, Opal\\nCategories will always be more specific than \\\"5-LETTER-WORDS,\\\" \\\"NAMES\\\" or \\\"VERBS.\\\"\\n\"\n",
    "    print(instructions)\n",
    "\n",
    "    prompt = instructions + \"The words are:\\n\" + \"'HAIL', 'LEVEL', 'RETURN', 'OPTION', 'SNOW', 'NETS', 'TAB', 'KAYAK', 'HEAT', 'JAZZ', 'SLEET', 'MOM', 'RACECAR', 'SHIFT', 'BUCKS', 'RAIN'\"\n",
    "\n",
    "    # Define parameters for the completion\n",
    "    response = client.chat.completions.create(\n",
    "        model=\"gpt-3.5-turbo\",  # Use the desired GPT model\n",
    "        max_tokens=200,  # Adjust max_tokens as per your requirements\n",
    "        temperature=0.7,  # Adjust temperature as per your requirements\n",
    "        stop=None,  # Adjust stop condition if needed\n",
    "        messages=[{\"role\": \"user\", \"content\": prompt}]\n",
    "    )\n",
    "\n",
    "    # Get the response text\n",
    "    answer = response.choices[0].text.strip()\n",
    "\n",
    "    # Print and record the answer\n",
    "    print(answer)\n",
    "\n",
    "    # Record the answer to a file\n",
    "    with open(\"answers.txt\", \"a\") as f:\n",
    "        f.write(answer + \"\\n\")"
   ]
  },
  {
   "cell_type": "code",
   "execution_count": null,
   "id": "989ece46",
   "metadata": {},
   "outputs": [],
   "source": []
  }
 ],
 "metadata": {
  "kernelspec": {
   "display_name": "Python 3 (ipykernel)",
   "language": "python",
   "name": "python3"
  },
  "language_info": {
   "codemirror_mode": {
    "name": "ipython",
    "version": 3
   },
   "file_extension": ".py",
   "mimetype": "text/x-python",
   "name": "python",
   "nbconvert_exporter": "python",
   "pygments_lexer": "ipython3",
   "version": "3.10.9"
  }
 },
 "nbformat": 4,
 "nbformat_minor": 5
}
