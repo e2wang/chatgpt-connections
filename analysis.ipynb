{
 "cells": [
  {
   "cell_type": "markdown",
   "id": "4ef77cb5",
   "metadata": {},
   "source": [
    "# Connections Analysis Notebook GPT-3.5"
   ]
  },
  {
   "cell_type": "markdown",
   "id": "7956c024",
   "metadata": {},
   "source": [
    "Purpose is to evaluate the performance of GPT-2 and GPT-3.5 on Connections game.\n",
    "\n",
    "By: Elsie Wang\n",
    "\n",
    "Date: 03/18/24"
   ]
  },
  {
   "cell_type": "markdown",
   "id": "21927f31",
   "metadata": {},
   "source": [
    "## Overhead"
   ]
  },
  {
   "cell_type": "code",
   "execution_count": 346,
   "id": "851640ee",
   "metadata": {},
   "outputs": [],
   "source": [
    "# Imports\n",
    "import warnings\n",
    "warnings.filterwarnings(\"ignore\")\n",
    "\n",
    "import pandas as pd\n",
    "import matplotlib.pyplot as plt\n",
    "import seaborn as sns\n",
    "import numpy as np\n",
    "from tqdm import tqdm\n",
    "from json import load\n",
    "import csv\n",
    "from collections import defaultdict\n",
    "\n",
    "from openai import OpenAI\n",
    "import torch\n",
    "import transformers\n",
    "from transformers import AutoTokenizer"
   ]
  },
  {
   "cell_type": "code",
   "execution_count": 420,
   "id": "2022422e",
   "metadata": {},
   "outputs": [],
   "source": [
    "from json import load\n",
    "\n",
    "KEY = load(open('./SECRETS.json', 'r'))\n",
    "client = OpenAI(api_key=KEY['OpenAIKey'])"
   ]
  },
  {
   "cell_type": "markdown",
   "id": "8843a081",
   "metadata": {},
   "source": [
    "### Load Data"
   ]
  },
  {
   "cell_type": "code",
   "execution_count": 49,
   "id": "09015571",
   "metadata": {},
   "outputs": [
    {
     "data": {
      "text/html": [
       "<div>\n",
       "<style scoped>\n",
       "    .dataframe tbody tr th:only-of-type {\n",
       "        vertical-align: middle;\n",
       "    }\n",
       "\n",
       "    .dataframe tbody tr th {\n",
       "        vertical-align: top;\n",
       "    }\n",
       "\n",
       "    .dataframe thead th {\n",
       "        text-align: right;\n",
       "    }\n",
       "</style>\n",
       "<table border=\"1\" class=\"dataframe\">\n",
       "  <thead>\n",
       "    <tr style=\"text-align: right;\">\n",
       "      <th></th>\n",
       "      <th>Game_ID</th>\n",
       "      <th>Words</th>\n",
       "      <th>Color</th>\n",
       "      <th>Category</th>\n",
       "    </tr>\n",
       "  </thead>\n",
       "  <tbody>\n",
       "    <tr>\n",
       "      <th>0</th>\n",
       "      <td>1</td>\n",
       "      <td>[HAIL, RAIN, SLEET, SNOW]</td>\n",
       "      <td>yellow</td>\n",
       "      <td>WET WEATHER</td>\n",
       "    </tr>\n",
       "    <tr>\n",
       "      <th>1</th>\n",
       "      <td>1</td>\n",
       "      <td>[BUCKS, HEAT, JAZZ, NETS]</td>\n",
       "      <td>green</td>\n",
       "      <td>NBA TEAMS</td>\n",
       "    </tr>\n",
       "    <tr>\n",
       "      <th>2</th>\n",
       "      <td>1</td>\n",
       "      <td>[OPTION, RETURN, SHIFT, TAB]</td>\n",
       "      <td>blue</td>\n",
       "      <td>KEYBOARD KEYS</td>\n",
       "    </tr>\n",
       "    <tr>\n",
       "      <th>3</th>\n",
       "      <td>1</td>\n",
       "      <td>[KAYAK, LEVEL, MOM, RACECAR]</td>\n",
       "      <td>purple</td>\n",
       "      <td>PALINDROMES</td>\n",
       "    </tr>\n",
       "    <tr>\n",
       "      <th>4</th>\n",
       "      <td>2</td>\n",
       "      <td>[BOOT, LOAFER, PUMP, SNEAKER]</td>\n",
       "      <td>yellow</td>\n",
       "      <td>FOOTWEAR</td>\n",
       "    </tr>\n",
       "  </tbody>\n",
       "</table>\n",
       "</div>"
      ],
      "text/plain": [
       "  Game_ID                          Words   Color       Category\n",
       "0       1      [HAIL, RAIN, SLEET, SNOW]  yellow    WET WEATHER\n",
       "1       1      [BUCKS, HEAT, JAZZ, NETS]   green      NBA TEAMS\n",
       "2       1   [OPTION, RETURN, SHIFT, TAB]    blue  KEYBOARD KEYS\n",
       "3       1   [KAYAK, LEVEL, MOM, RACECAR]  purple    PALINDROMES\n",
       "4       2  [BOOT, LOAFER, PUMP, SNEAKER]  yellow       FOOTWEAR"
      ]
     },
     "execution_count": 49,
     "metadata": {},
     "output_type": "execute_result"
    }
   ],
   "source": [
    "answers_dict = defaultdict(list)\n",
    "with open(\"data/answers.csv\", newline='') as csvfile:\n",
    "    # Create a CSV reader object\n",
    "    reader = csv.reader(csvfile)\n",
    "    \n",
    "    # Iterate over each row in the CSV file\n",
    "    for row in reader:\n",
    "        if len(row) == 4:\n",
    "            continue\n",
    "        else:\n",
    "            answers_dict['Game_ID'].append(row[0])\n",
    "            answers_dict['Words'].append([row[i].replace(\"'\", \"\").strip(\"[]\\'\").strip() for i in range(1,5)])\n",
    "            answers_dict['Color'].append(row[-1])\n",
    "            if len(row) == 8:\n",
    "                answers_dict['Category'].append(f\"{row[5]}, {row[6]}\")\n",
    "            else:\n",
    "                answers_dict['Category'].append(row[5])\n",
    "answers_df = pd.DataFrame(answers_dict)\n",
    "answers_df.head()"
   ]
  },
  {
   "cell_type": "code",
   "execution_count": 242,
   "id": "45e35268",
   "metadata": {},
   "outputs": [
    {
     "data": {
      "text/html": [
       "<div>\n",
       "<style scoped>\n",
       "    .dataframe tbody tr th:only-of-type {\n",
       "        vertical-align: middle;\n",
       "    }\n",
       "\n",
       "    .dataframe tbody tr th {\n",
       "        vertical-align: top;\n",
       "    }\n",
       "\n",
       "    .dataframe thead th {\n",
       "        text-align: right;\n",
       "    }\n",
       "</style>\n",
       "<table border=\"1\" class=\"dataframe\">\n",
       "  <thead>\n",
       "    <tr style=\"text-align: right;\">\n",
       "      <th></th>\n",
       "      <th>Game_ID</th>\n",
       "      <th>Options</th>\n",
       "    </tr>\n",
       "  </thead>\n",
       "  <tbody>\n",
       "    <tr>\n",
       "      <th>0</th>\n",
       "      <td>1</td>\n",
       "      <td>[HAIL, LEVEL, RETURN, OPTION, SNOW, NETS, TAB,...</td>\n",
       "    </tr>\n",
       "    <tr>\n",
       "      <th>1</th>\n",
       "      <td>2</td>\n",
       "      <td>[MILE, LOAFER, LEAGUE, TIME, BOOT, ESSENCE, SN...</td>\n",
       "    </tr>\n",
       "    <tr>\n",
       "      <th>2</th>\n",
       "      <td>3</td>\n",
       "      <td>[POM, TENOR, WOLF, PEKE, SCARF, KING, PIT, GOB...</td>\n",
       "    </tr>\n",
       "    <tr>\n",
       "      <th>3</th>\n",
       "      <td>4</td>\n",
       "      <td>[REEBOK, DUST, SPIDER, ADIDAS, CABARET, SWEEP,...</td>\n",
       "    </tr>\n",
       "    <tr>\n",
       "      <th>4</th>\n",
       "      <td>5</td>\n",
       "      <td>[HULU, LOW, KETCHUP, RELISH, GREEN, GLUM, SCAR...</td>\n",
       "    </tr>\n",
       "  </tbody>\n",
       "</table>\n",
       "</div>"
      ],
      "text/plain": [
       "  Game_ID                                            Options\n",
       "0       1  [HAIL, LEVEL, RETURN, OPTION, SNOW, NETS, TAB,...\n",
       "1       2  [MILE, LOAFER, LEAGUE, TIME, BOOT, ESSENCE, SN...\n",
       "2       3  [POM, TENOR, WOLF, PEKE, SCARF, KING, PIT, GOB...\n",
       "3       4  [REEBOK, DUST, SPIDER, ADIDAS, CABARET, SWEEP,...\n",
       "4       5  [HULU, LOW, KETCHUP, RELISH, GREEN, GLUM, SCAR..."
      ]
     },
     "execution_count": 242,
     "metadata": {},
     "output_type": "execute_result"
    }
   ],
   "source": [
    "prompts_dict = defaultdict(list)\n",
    "with open(\"data/prompt.csv\", newline='') as csvfile:\n",
    "    # Create a CSV reader object\n",
    "    reader = csv.reader(csvfile)\n",
    "    \n",
    "    # Iterate over each row in the CSV file\n",
    "    for row in reader:\n",
    "        if len(row) == 2:\n",
    "            continue\n",
    "        else:\n",
    "            prompts_dict['Game_ID'].append(row[0])\n",
    "            prompts_dict['Options'].append([row[i].replace(\"'\", \"\").strip(\"[]\").strip() for i in range(1, len(row))])\n",
    "prompts_df = pd.DataFrame(prompts_dict)\n",
    "prompts_df.head()"
   ]
  },
  {
   "cell_type": "code",
   "execution_count": 373,
   "id": "0cd5e1da",
   "metadata": {},
   "outputs": [
    {
     "data": {
      "text/html": [
       "<div>\n",
       "<style scoped>\n",
       "    .dataframe tbody tr th:only-of-type {\n",
       "        vertical-align: middle;\n",
       "    }\n",
       "\n",
       "    .dataframe tbody tr th {\n",
       "        vertical-align: top;\n",
       "    }\n",
       "\n",
       "    .dataframe thead th {\n",
       "        text-align: right;\n",
       "    }\n",
       "</style>\n",
       "<table border=\"1\" class=\"dataframe\">\n",
       "  <thead>\n",
       "    <tr style=\"text-align: right;\">\n",
       "      <th></th>\n",
       "      <th>Game_ID</th>\n",
       "      <th>Words</th>\n",
       "      <th>Color</th>\n",
       "      <th>Category</th>\n",
       "      <th>Options</th>\n",
       "      <th>Prompt</th>\n",
       "      <th>Correct_Answer</th>\n",
       "    </tr>\n",
       "  </thead>\n",
       "  <tbody>\n",
       "    <tr>\n",
       "      <th>0</th>\n",
       "      <td>1</td>\n",
       "      <td>[HAIL, RAIN, SLEET, SNOW]</td>\n",
       "      <td>yellow</td>\n",
       "      <td>WET WEATHER</td>\n",
       "      <td>[LEVEL, RETURN, OPTION, SNOW, NETS, TAB, KAYAK...</td>\n",
       "      <td>[HAIL, RAIN, SLEET]</td>\n",
       "      <td>SNOW</td>\n",
       "    </tr>\n",
       "    <tr>\n",
       "      <th>1</th>\n",
       "      <td>1</td>\n",
       "      <td>[BUCKS, HEAT, JAZZ, NETS]</td>\n",
       "      <td>green</td>\n",
       "      <td>NBA TEAMS</td>\n",
       "      <td>[HAIL, LEVEL, RETURN, OPTION, SNOW, NETS, TAB,...</td>\n",
       "      <td>[BUCKS, HEAT, JAZZ]</td>\n",
       "      <td>NETS</td>\n",
       "    </tr>\n",
       "    <tr>\n",
       "      <th>2</th>\n",
       "      <td>1</td>\n",
       "      <td>[OPTION, RETURN, SHIFT, TAB]</td>\n",
       "      <td>blue</td>\n",
       "      <td>KEYBOARD KEYS</td>\n",
       "      <td>[HAIL, LEVEL, SNOW, NETS, TAB, KAYAK, HEAT, JA...</td>\n",
       "      <td>[OPTION, RETURN, SHIFT]</td>\n",
       "      <td>TAB</td>\n",
       "    </tr>\n",
       "    <tr>\n",
       "      <th>3</th>\n",
       "      <td>1</td>\n",
       "      <td>[KAYAK, LEVEL, MOM, RACECAR]</td>\n",
       "      <td>purple</td>\n",
       "      <td>PALINDROMES</td>\n",
       "      <td>[HAIL, RETURN, OPTION, SNOW, NETS, TAB, HEAT, ...</td>\n",
       "      <td>[KAYAK, LEVEL, MOM]</td>\n",
       "      <td>RACECAR</td>\n",
       "    </tr>\n",
       "    <tr>\n",
       "      <th>4</th>\n",
       "      <td>2</td>\n",
       "      <td>[BOOT, LOAFER, PUMP, SNEAKER]</td>\n",
       "      <td>yellow</td>\n",
       "      <td>FOOTWEAR</td>\n",
       "      <td>[MILE, LEAGUE, TIME, ESSENCE, SNEAKER, US, PEO...</td>\n",
       "      <td>[BOOT, LOAFER, PUMP]</td>\n",
       "      <td>SNEAKER</td>\n",
       "    </tr>\n",
       "  </tbody>\n",
       "</table>\n",
       "</div>"
      ],
      "text/plain": [
       "  Game_ID                          Words   Color       Category  \\\n",
       "0       1      [HAIL, RAIN, SLEET, SNOW]  yellow    WET WEATHER   \n",
       "1       1      [BUCKS, HEAT, JAZZ, NETS]   green      NBA TEAMS   \n",
       "2       1   [OPTION, RETURN, SHIFT, TAB]    blue  KEYBOARD KEYS   \n",
       "3       1   [KAYAK, LEVEL, MOM, RACECAR]  purple    PALINDROMES   \n",
       "4       2  [BOOT, LOAFER, PUMP, SNEAKER]  yellow       FOOTWEAR   \n",
       "\n",
       "                                             Options                   Prompt  \\\n",
       "0  [LEVEL, RETURN, OPTION, SNOW, NETS, TAB, KAYAK...      [HAIL, RAIN, SLEET]   \n",
       "1  [HAIL, LEVEL, RETURN, OPTION, SNOW, NETS, TAB,...      [BUCKS, HEAT, JAZZ]   \n",
       "2  [HAIL, LEVEL, SNOW, NETS, TAB, KAYAK, HEAT, JA...  [OPTION, RETURN, SHIFT]   \n",
       "3  [HAIL, RETURN, OPTION, SNOW, NETS, TAB, HEAT, ...      [KAYAK, LEVEL, MOM]   \n",
       "4  [MILE, LEAGUE, TIME, ESSENCE, SNEAKER, US, PEO...     [BOOT, LOAFER, PUMP]   \n",
       "\n",
       "  Correct_Answer  \n",
       "0           SNOW  \n",
       "1           NETS  \n",
       "2            TAB  \n",
       "3        RACECAR  \n",
       "4        SNEAKER  "
      ]
     },
     "execution_count": 373,
     "metadata": {},
     "output_type": "execute_result"
    }
   ],
   "source": [
    "# Combine answers and prompts df\n",
    "def filter_options(row):\n",
    "    \"\"\" Returns a list of options without the words in the Words column\n",
    "    \"\"\"\n",
    "    return [word for word in row['Options'] if word not in row['Prompt']]\n",
    "\n",
    "# Apply the function to create the new options column\n",
    "merged = answers_df.merge(prompts_df, on='Game_ID', how='left')\n",
    "merged['Prompt'] = merged['Words'].apply(lambda x: x[:3])\n",
    "merged['Options'] = merged.apply(filter_options, axis=1)\n",
    "merged['Correct_Answer'] = merged['Words'].apply(lambda x: x[-1])\n",
    "merged.head()"
   ]
  },
  {
   "cell_type": "markdown",
   "id": "2f206f9f",
   "metadata": {},
   "source": [
    "-------------------------------------------------------------------------------------------------------------------"
   ]
  },
  {
   "cell_type": "markdown",
   "id": "3fefcd3a",
   "metadata": {},
   "source": [
    "## Query GPT Responses"
   ]
  },
  {
   "cell_type": "markdown",
   "id": "1c8e05d2",
   "metadata": {},
   "source": [
    "### GPT-3.5"
   ]
  },
  {
   "cell_type": "markdown",
   "id": "0292c777",
   "metadata": {},
   "source": [
    "GPT-3.5 will be tested on whether they can find the word that has the most in common with three words given a set of options. One example is given below:\n",
    "\n",
    "**Prompt**:\n",
    "\n",
    "Find the word that shares the most in common with ['BLUE', 'GREEN', 'PURPLE'] among the follwoing words and ONLY the following words:\n",
    "\n",
    "['HULU', 'YELLOW', 'KETCHUP', 'RELISH', 'SCARF', 'LETTUCE', 'PRIME', 'MUSTARD', 'TOMATO', 'MAYO', 'PEACOCK', 'NETFLIX', 'TARTAR'].\n",
    "\n",
    "DO NOT REPEAT THE THREE WORDS GIVEN. Give a one word answer. E.g. 'BLUE'\n",
    "\n",
    "**Response**:\n",
    "\n",
    "'YELLOW'"
   ]
  },
  {
   "cell_type": "code",
   "execution_count": 466,
   "id": "9f27a3ca",
   "metadata": {},
   "outputs": [],
   "source": [
    "def surprisal(p):\n",
    "    \"\"\" Returns surprisal (negative log probability)\n",
    "    \"\"\"\n",
    "    if p == 0:\n",
    "        return 0\n",
    "    else:\n",
    "        return -np.log2(p)"
   ]
  },
  {
   "cell_type": "code",
   "execution_count": 379,
   "id": "8628fcf9",
   "metadata": {},
   "outputs": [],
   "source": [
    "def calc_prob(response):\n",
    "    \"\"\" Returns probability of response generated by GPT\n",
    "    \"\"\"\n",
    "    logprobs = []\n",
    "    contents = response.choices[0].logprobs.content\n",
    "    for content in contents:\n",
    "        logprobs.append(content.logprob)\n",
    "    return np.exp(sum(logprobs))"
   ]
  },
  {
   "cell_type": "code",
   "execution_count": 411,
   "id": "5d2a4897",
   "metadata": {},
   "outputs": [],
   "source": [
    "def run_eval_category(words, options, correct_answer):\n",
    "    \"\"\" Prompts GPT to answer categories individually and returns response and probability (e.g. RED, BLUE, YELLOW, ____)\n",
    "    \"\"\"\n",
    "    \n",
    "    prompt = f\"Find the word that shares the most in common with {words} among the follwoing words and ONLY the following words:\\n{options}.\\nGive a one word answer. E.g. 'BLUE'\"\n",
    "    # Prompt GPT-3.5 5 times and get most common response\n",
    "    response = client.chat.completions.create(\n",
    "        model=\"gpt-3.5-turbo\", \n",
    "        max_tokens=200, \n",
    "        temperature=0.7,\n",
    "        stop=None,  \n",
    "        messages=[{\"role\": \"user\", \"content\": prompt}],\n",
    "        logprobs=True\n",
    "    )\n",
    "        \n",
    "    answer = response.choices[0].message.content # Get answer\n",
    "    prob = calc_prob(response) # probability of answer\n",
    "    \n",
    "    correct = answer == correct_answer # Whether GPT guessed correctly\n",
    "\n",
    "\n",
    "    # Print and record the answer\n",
    "    return answer, prob, correct\n",
    "    # Record the answer to a file\n",
    "#     with open(\"answers.txt\", \"a\") as f:\n",
    "#         f.write(answer + \"\\n\")"
   ]
  },
  {
   "cell_type": "code",
   "execution_count": 421,
   "id": "54655f3b",
   "metadata": {},
   "outputs": [
    {
     "name": "stderr",
     "output_type": "stream",
     "text": [
      "100%|█████████████████████████████████████████| 340/340 [43:07<00:00,  7.61s/it]\n"
     ]
    }
   ],
   "source": [
    "responses = []\n",
    "probs = []\n",
    "correct_ = []\n",
    "\n",
    "# Tests GPT on all categories \n",
    "for index, row in tqdm(merged.iterrows(), total=len(merged)):\n",
    "    prompt = row['Prompt']\n",
    "    options = row['Options']\n",
    "    correct_answer = row['Correct_Answer']\n",
    "    \n",
    "    answer, prob, correct = run_eval_category(prompt, options, correct_answer)\n",
    "    responses.append(answer)\n",
    "    probs.append(prob)\n",
    "    correct_.append(correct)"
   ]
  },
  {
   "cell_type": "code",
   "execution_count": 447,
   "id": "4fba2cc0",
   "metadata": {},
   "outputs": [
    {
     "data": {
      "text/html": [
       "<div>\n",
       "<style scoped>\n",
       "    .dataframe tbody tr th:only-of-type {\n",
       "        vertical-align: middle;\n",
       "    }\n",
       "\n",
       "    .dataframe tbody tr th {\n",
       "        vertical-align: top;\n",
       "    }\n",
       "\n",
       "    .dataframe thead th {\n",
       "        text-align: right;\n",
       "    }\n",
       "</style>\n",
       "<table border=\"1\" class=\"dataframe\">\n",
       "  <thead>\n",
       "    <tr style=\"text-align: right;\">\n",
       "      <th></th>\n",
       "      <th>Game_ID</th>\n",
       "      <th>Words</th>\n",
       "      <th>Color</th>\n",
       "      <th>Category</th>\n",
       "      <th>Options</th>\n",
       "      <th>Prompt</th>\n",
       "      <th>Correct_Answer</th>\n",
       "      <th>Response</th>\n",
       "      <th>Probabilities</th>\n",
       "      <th>Correct</th>\n",
       "      <th>Repeat</th>\n",
       "      <th>Surprisal</th>\n",
       "    </tr>\n",
       "  </thead>\n",
       "  <tbody>\n",
       "    <tr>\n",
       "      <th>0</th>\n",
       "      <td>1</td>\n",
       "      <td>[HAIL, RAIN, SLEET, SNOW]</td>\n",
       "      <td>yellow</td>\n",
       "      <td>WET WEATHER</td>\n",
       "      <td>[LEVEL, RETURN, OPTION, SNOW, NETS, TAB, KAYAK...</td>\n",
       "      <td>[HAIL, RAIN, SLEET]</td>\n",
       "      <td>SNOW</td>\n",
       "      <td>SNOW</td>\n",
       "      <td>0.996020</td>\n",
       "      <td>True</td>\n",
       "      <td>False</td>\n",
       "      <td>0.005754</td>\n",
       "    </tr>\n",
       "    <tr>\n",
       "      <th>1</th>\n",
       "      <td>1</td>\n",
       "      <td>[BUCKS, HEAT, JAZZ, NETS]</td>\n",
       "      <td>green</td>\n",
       "      <td>NBA TEAMS</td>\n",
       "      <td>[HAIL, LEVEL, RETURN, OPTION, SNOW, NETS, TAB,...</td>\n",
       "      <td>[BUCKS, HEAT, JAZZ]</td>\n",
       "      <td>NETS</td>\n",
       "      <td>NETS</td>\n",
       "      <td>0.989294</td>\n",
       "      <td>True</td>\n",
       "      <td>False</td>\n",
       "      <td>0.015529</td>\n",
       "    </tr>\n",
       "    <tr>\n",
       "      <th>2</th>\n",
       "      <td>1</td>\n",
       "      <td>[OPTION, RETURN, SHIFT, TAB]</td>\n",
       "      <td>blue</td>\n",
       "      <td>KEYBOARD KEYS</td>\n",
       "      <td>[HAIL, LEVEL, SNOW, NETS, TAB, KAYAK, HEAT, JA...</td>\n",
       "      <td>[OPTION, RETURN, SHIFT]</td>\n",
       "      <td>TAB</td>\n",
       "      <td>SHIFT</td>\n",
       "      <td>0.122644</td>\n",
       "      <td>False</td>\n",
       "      <td>True</td>\n",
       "      <td>3.027452</td>\n",
       "    </tr>\n",
       "    <tr>\n",
       "      <th>3</th>\n",
       "      <td>1</td>\n",
       "      <td>[KAYAK, LEVEL, MOM, RACECAR]</td>\n",
       "      <td>purple</td>\n",
       "      <td>PALINDROMES</td>\n",
       "      <td>[HAIL, RETURN, OPTION, SNOW, NETS, TAB, HEAT, ...</td>\n",
       "      <td>[KAYAK, LEVEL, MOM]</td>\n",
       "      <td>RACECAR</td>\n",
       "      <td>RACECAR</td>\n",
       "      <td>0.997618</td>\n",
       "      <td>True</td>\n",
       "      <td>False</td>\n",
       "      <td>0.003440</td>\n",
       "    </tr>\n",
       "    <tr>\n",
       "      <th>4</th>\n",
       "      <td>2</td>\n",
       "      <td>[BOOT, LOAFER, PUMP, SNEAKER]</td>\n",
       "      <td>yellow</td>\n",
       "      <td>FOOTWEAR</td>\n",
       "      <td>[MILE, LEAGUE, TIME, ESSENCE, SNEAKER, US, PEO...</td>\n",
       "      <td>[BOOT, LOAFER, PUMP]</td>\n",
       "      <td>SNEAKER</td>\n",
       "      <td>FOOT</td>\n",
       "      <td>0.994823</td>\n",
       "      <td>False</td>\n",
       "      <td>False</td>\n",
       "      <td>0.007488</td>\n",
       "    </tr>\n",
       "  </tbody>\n",
       "</table>\n",
       "</div>"
      ],
      "text/plain": [
       "  Game_ID                          Words   Color       Category  \\\n",
       "0       1      [HAIL, RAIN, SLEET, SNOW]  yellow    WET WEATHER   \n",
       "1       1      [BUCKS, HEAT, JAZZ, NETS]   green      NBA TEAMS   \n",
       "2       1   [OPTION, RETURN, SHIFT, TAB]    blue  KEYBOARD KEYS   \n",
       "3       1   [KAYAK, LEVEL, MOM, RACECAR]  purple    PALINDROMES   \n",
       "4       2  [BOOT, LOAFER, PUMP, SNEAKER]  yellow       FOOTWEAR   \n",
       "\n",
       "                                             Options                   Prompt  \\\n",
       "0  [LEVEL, RETURN, OPTION, SNOW, NETS, TAB, KAYAK...      [HAIL, RAIN, SLEET]   \n",
       "1  [HAIL, LEVEL, RETURN, OPTION, SNOW, NETS, TAB,...      [BUCKS, HEAT, JAZZ]   \n",
       "2  [HAIL, LEVEL, SNOW, NETS, TAB, KAYAK, HEAT, JA...  [OPTION, RETURN, SHIFT]   \n",
       "3  [HAIL, RETURN, OPTION, SNOW, NETS, TAB, HEAT, ...      [KAYAK, LEVEL, MOM]   \n",
       "4  [MILE, LEAGUE, TIME, ESSENCE, SNEAKER, US, PEO...     [BOOT, LOAFER, PUMP]   \n",
       "\n",
       "  Correct_Answer Response  Probabilities  Correct  Repeat  Surprisal  \n",
       "0           SNOW     SNOW       0.996020     True   False   0.005754  \n",
       "1           NETS     NETS       0.989294     True   False   0.015529  \n",
       "2            TAB    SHIFT       0.122644    False    True   3.027452  \n",
       "3        RACECAR  RACECAR       0.997618     True   False   0.003440  \n",
       "4        SNEAKER     FOOT       0.994823    False   False   0.007488  "
      ]
     },
     "execution_count": 447,
     "metadata": {},
     "output_type": "execute_result"
    }
   ],
   "source": [
    "# Add results to column\n",
    "merged['Response'] = responses\n",
    "merged['Probabilities'] = probs\n",
    "merged['Correct'] = correct_\n",
    "merged['Surprisal'] = merged['Probabilities'].apply(surprisal)\n",
    "merged.head()\n",
    "\n",
    "# Write to csv\n",
    "merged.to_csv('data/results.csv', index=False)\n",
    "\n",
    "merged.head()"
   ]
  },
  {
   "cell_type": "markdown",
   "id": "ef5aadec",
   "metadata": {},
   "source": [
    "### GPT-2"
   ]
  },
  {
   "cell_type": "code",
   "execution_count": 467,
   "id": "05cd1a0b",
   "metadata": {},
   "outputs": [],
   "source": [
    "# Load pre-trained gpt2 model\n",
    "tokenizer = AutoTokenizer.from_pretrained(\"gpt2\")\n",
    "gpt2 = transformers.AutoModelForCausalLM.from_pretrained(\"gpt2\")  # Load the model"
   ]
  },
  {
   "cell_type": "code",
   "execution_count": 468,
   "id": "4f34b1e7",
   "metadata": {},
   "outputs": [],
   "source": [
    "def next_seq_prob(model, tokenizer, seen, unseen):\n",
    "    \"\"\"Get p(unseen | seen)\n",
    "\n",
    "    Parameters\n",
    "    ----------\n",
    "    model : transformers.PreTrainedModel\n",
    "        Model to use for predicting tokens\n",
    "    tokenizer : transformers.PreTrainedTokenizer\n",
    "        Tokenizer for Model\n",
    "    seen : str\n",
    "        Input sequence\n",
    "    unseen: str\n",
    "        The sequence for which to calculate a probability\n",
    "    \"\"\"\n",
    "    # Get ids for tokens\n",
    "    input_ids = tokenizer.encode(seen, return_tensors=\"pt\")\n",
    "    unseen_ids = tokenizer.encode(unseen)\n",
    "\n",
    "    # Loop through unseen tokens & store log probs\n",
    "    log_probs = []\n",
    "    for unseen_id in unseen_ids:\n",
    "\n",
    "        # Run model on input\n",
    "        with torch.no_grad():\n",
    "            logits = model(input_ids).logits\n",
    "\n",
    "        # Get next token prediction logits\n",
    "        next_token_logits = logits[0, -1]\n",
    "        next_token_probs = torch.softmax(next_token_logits, 0) # Normalize\n",
    "\n",
    "        # Get probability for relevant token in unseen string & store\n",
    "        prob = next_token_probs[unseen_id]\n",
    "        log_probs.append(torch.log(prob))\n",
    "\n",
    "        # Add input tokens incrementally to input\n",
    "        input_ids = torch.cat((input_ids, torch.tensor([[unseen_id]])), 1)\n",
    "\n",
    "    # Add log probs together to get total log probability of sequence\n",
    "    total_log_prob = sum(log_probs)\n",
    "    # Exponentiate to return to probabilities\n",
    "    total_prob = torch.exp(total_log_prob)\n",
    "    return total_prob.item()"
   ]
  },
  {
   "cell_type": "code",
   "execution_count": null,
   "id": "ca600626",
   "metadata": {},
   "outputs": [],
   "source": [
    "results = []\n",
    "for index, row in tqdm(merged.iloc[:10].iterrows(), total=len(merged.iloc[:10])):\n",
    "    candidates = row['Options']\n",
    "    words = row['Prompt']\n",
    "    prompt = f\"Find the word that shares the most in common with {words} among the follwoing words and ONLY the following words:\\n{candidates}.\\nDO NOT REPEAT THE THREE WORDS GIVEN. Give a one word answer. E.g. 'BLUE'\"\n",
    "    for candidate in candidates:\n",
    "        prob = next_seq_prob(gpt2, tokenizer, prompt, candidate)\n",
    "        print(row['Correct_Answer'])\n",
    "        print(candidate)\n",
    "        correct = candidate == row['Correct_Answer']\n",
    "        results.append({\n",
    "            'Prompt': row['Prompt'],\n",
    "            'Word': candidate,\n",
    "            'Correct_Answer': correct,\n",
    "            'Probability': prob,\n",
    "            'Surprisal': surprisal(prob)\n",
    "        })"
   ]
  },
  {
   "cell_type": "code",
   "execution_count": null,
   "id": "a58c6df9",
   "metadata": {},
   "outputs": [],
   "source": []
  },
  {
   "cell_type": "markdown",
   "id": "361bbcee",
   "metadata": {},
   "source": [
    "-------------------------------------------------------------------------------------------------------------------"
   ]
  },
  {
   "cell_type": "markdown",
   "id": "373e65d1",
   "metadata": {},
   "source": [
    "## Analysis"
   ]
  },
  {
   "cell_type": "markdown",
   "id": "c9f401e0",
   "metadata": {},
   "source": [
    "### GPT-3.5"
   ]
  },
  {
   "cell_type": "code",
   "execution_count": 449,
   "id": "eeb174a8",
   "metadata": {},
   "outputs": [
    {
     "data": {
      "text/html": [
       "<div>\n",
       "<style scoped>\n",
       "    .dataframe tbody tr th:only-of-type {\n",
       "        vertical-align: middle;\n",
       "    }\n",
       "\n",
       "    .dataframe tbody tr th {\n",
       "        vertical-align: top;\n",
       "    }\n",
       "\n",
       "    .dataframe thead th {\n",
       "        text-align: right;\n",
       "    }\n",
       "</style>\n",
       "<table border=\"1\" class=\"dataframe\">\n",
       "  <thead>\n",
       "    <tr style=\"text-align: right;\">\n",
       "      <th></th>\n",
       "      <th>Game_ID</th>\n",
       "      <th>Words</th>\n",
       "      <th>Color</th>\n",
       "      <th>Category</th>\n",
       "      <th>Options</th>\n",
       "      <th>Prompt</th>\n",
       "      <th>Correct_Answer</th>\n",
       "      <th>Response</th>\n",
       "      <th>Probabilities</th>\n",
       "      <th>Correct</th>\n",
       "      <th>Repeat</th>\n",
       "      <th>Surprisal</th>\n",
       "    </tr>\n",
       "  </thead>\n",
       "  <tbody>\n",
       "    <tr>\n",
       "      <th>0</th>\n",
       "      <td>1</td>\n",
       "      <td>[HAIL, RAIN, SLEET, SNOW]</td>\n",
       "      <td>yellow</td>\n",
       "      <td>WET WEATHER</td>\n",
       "      <td>[LEVEL, RETURN, OPTION, SNOW, NETS, TAB, KAYAK...</td>\n",
       "      <td>[HAIL, RAIN, SLEET]</td>\n",
       "      <td>SNOW</td>\n",
       "      <td>SNOW</td>\n",
       "      <td>0.996020</td>\n",
       "      <td>True</td>\n",
       "      <td>False</td>\n",
       "      <td>0.005754</td>\n",
       "    </tr>\n",
       "    <tr>\n",
       "      <th>1</th>\n",
       "      <td>1</td>\n",
       "      <td>[BUCKS, HEAT, JAZZ, NETS]</td>\n",
       "      <td>green</td>\n",
       "      <td>NBA TEAMS</td>\n",
       "      <td>[HAIL, LEVEL, RETURN, OPTION, SNOW, NETS, TAB,...</td>\n",
       "      <td>[BUCKS, HEAT, JAZZ]</td>\n",
       "      <td>NETS</td>\n",
       "      <td>NETS</td>\n",
       "      <td>0.989294</td>\n",
       "      <td>True</td>\n",
       "      <td>False</td>\n",
       "      <td>0.015529</td>\n",
       "    </tr>\n",
       "    <tr>\n",
       "      <th>2</th>\n",
       "      <td>1</td>\n",
       "      <td>[OPTION, RETURN, SHIFT, TAB]</td>\n",
       "      <td>blue</td>\n",
       "      <td>KEYBOARD KEYS</td>\n",
       "      <td>[HAIL, LEVEL, SNOW, NETS, TAB, KAYAK, HEAT, JA...</td>\n",
       "      <td>[OPTION, RETURN, SHIFT]</td>\n",
       "      <td>TAB</td>\n",
       "      <td>SHIFT</td>\n",
       "      <td>0.122644</td>\n",
       "      <td>False</td>\n",
       "      <td>True</td>\n",
       "      <td>3.027452</td>\n",
       "    </tr>\n",
       "    <tr>\n",
       "      <th>3</th>\n",
       "      <td>1</td>\n",
       "      <td>[KAYAK, LEVEL, MOM, RACECAR]</td>\n",
       "      <td>purple</td>\n",
       "      <td>PALINDROMES</td>\n",
       "      <td>[HAIL, RETURN, OPTION, SNOW, NETS, TAB, HEAT, ...</td>\n",
       "      <td>[KAYAK, LEVEL, MOM]</td>\n",
       "      <td>RACECAR</td>\n",
       "      <td>RACECAR</td>\n",
       "      <td>0.997618</td>\n",
       "      <td>True</td>\n",
       "      <td>False</td>\n",
       "      <td>0.003440</td>\n",
       "    </tr>\n",
       "    <tr>\n",
       "      <th>4</th>\n",
       "      <td>2</td>\n",
       "      <td>[BOOT, LOAFER, PUMP, SNEAKER]</td>\n",
       "      <td>yellow</td>\n",
       "      <td>FOOTWEAR</td>\n",
       "      <td>[MILE, LEAGUE, TIME, ESSENCE, SNEAKER, US, PEO...</td>\n",
       "      <td>[BOOT, LOAFER, PUMP]</td>\n",
       "      <td>SNEAKER</td>\n",
       "      <td>FOOT</td>\n",
       "      <td>0.994823</td>\n",
       "      <td>False</td>\n",
       "      <td>False</td>\n",
       "      <td>0.007488</td>\n",
       "    </tr>\n",
       "  </tbody>\n",
       "</table>\n",
       "</div>"
      ],
      "text/plain": [
       "  Game_ID                          Words   Color       Category  \\\n",
       "0       1      [HAIL, RAIN, SLEET, SNOW]  yellow    WET WEATHER   \n",
       "1       1      [BUCKS, HEAT, JAZZ, NETS]   green      NBA TEAMS   \n",
       "2       1   [OPTION, RETURN, SHIFT, TAB]    blue  KEYBOARD KEYS   \n",
       "3       1   [KAYAK, LEVEL, MOM, RACECAR]  purple    PALINDROMES   \n",
       "4       2  [BOOT, LOAFER, PUMP, SNEAKER]  yellow       FOOTWEAR   \n",
       "\n",
       "                                             Options                   Prompt  \\\n",
       "0  [LEVEL, RETURN, OPTION, SNOW, NETS, TAB, KAYAK...      [HAIL, RAIN, SLEET]   \n",
       "1  [HAIL, LEVEL, RETURN, OPTION, SNOW, NETS, TAB,...      [BUCKS, HEAT, JAZZ]   \n",
       "2  [HAIL, LEVEL, SNOW, NETS, TAB, KAYAK, HEAT, JA...  [OPTION, RETURN, SHIFT]   \n",
       "3  [HAIL, RETURN, OPTION, SNOW, NETS, TAB, HEAT, ...      [KAYAK, LEVEL, MOM]   \n",
       "4  [MILE, LEAGUE, TIME, ESSENCE, SNEAKER, US, PEO...     [BOOT, LOAFER, PUMP]   \n",
       "\n",
       "  Correct_Answer Response  Probabilities  Correct  Repeat  Surprisal  \n",
       "0           SNOW     SNOW       0.996020     True   False   0.005754  \n",
       "1           NETS     NETS       0.989294     True   False   0.015529  \n",
       "2            TAB    SHIFT       0.122644    False    True   3.027452  \n",
       "3        RACECAR  RACECAR       0.997618     True   False   0.003440  \n",
       "4        SNEAKER     FOOT       0.994823    False   False   0.007488  "
      ]
     },
     "execution_count": 449,
     "metadata": {},
     "output_type": "execute_result"
    }
   ],
   "source": [
    "def is_repeat(row):\n",
    "    \"\"\" Returns whether response is in the prompt list\n",
    "    \"\"\"\n",
    "    return row['Response'] in row['Prompt']\n",
    "\n",
    "# Apply the function to create the new options column\n",
    "merged['Repeat'] = merged.apply(is_repeat, axis=1)\n",
    "merged.head()"
   ]
  },
  {
   "cell_type": "code",
   "execution_count": 450,
   "id": "e6580f17",
   "metadata": {},
   "outputs": [
    {
     "data": {
      "text/plain": [
       "0.1647373107747106"
      ]
     },
     "execution_count": 450,
     "metadata": {},
     "output_type": "execute_result"
    }
   ],
   "source": [
    "# Percent of responses that repeat from the prompt\n",
    "np.mean(merged['Repeat'])"
   ]
  },
  {
   "cell_type": "code",
   "execution_count": 451,
   "id": "261157a7",
   "metadata": {},
   "outputs": [
    {
     "data": {
      "text/html": [
       "<div>\n",
       "<style scoped>\n",
       "    .dataframe tbody tr th:only-of-type {\n",
       "        vertical-align: middle;\n",
       "    }\n",
       "\n",
       "    .dataframe tbody tr th {\n",
       "        vertical-align: top;\n",
       "    }\n",
       "\n",
       "    .dataframe thead th {\n",
       "        text-align: right;\n",
       "    }\n",
       "</style>\n",
       "<table border=\"1\" class=\"dataframe\">\n",
       "  <thead>\n",
       "    <tr style=\"text-align: right;\">\n",
       "      <th></th>\n",
       "      <th>Probabilities</th>\n",
       "      <th>Correct</th>\n",
       "      <th>Surprisal</th>\n",
       "    </tr>\n",
       "    <tr>\n",
       "      <th>Color</th>\n",
       "      <th></th>\n",
       "      <th></th>\n",
       "      <th></th>\n",
       "    </tr>\n",
       "  </thead>\n",
       "  <tbody>\n",
       "    <tr>\n",
       "      <th>blue</th>\n",
       "      <td>0.716556</td>\n",
       "      <td>0.283688</td>\n",
       "      <td>0.885448</td>\n",
       "    </tr>\n",
       "    <tr>\n",
       "      <th>green</th>\n",
       "      <td>0.759423</td>\n",
       "      <td>0.478723</td>\n",
       "      <td>0.624655</td>\n",
       "    </tr>\n",
       "    <tr>\n",
       "      <th>purple</th>\n",
       "      <td>0.634872</td>\n",
       "      <td>0.086643</td>\n",
       "      <td>1.001186</td>\n",
       "    </tr>\n",
       "    <tr>\n",
       "      <th>yellow</th>\n",
       "      <td>0.823912</td>\n",
       "      <td>0.627660</td>\n",
       "      <td>0.496609</td>\n",
       "    </tr>\n",
       "  </tbody>\n",
       "</table>\n",
       "</div>"
      ],
      "text/plain": [
       "        Probabilities   Correct  Surprisal\n",
       "Color                                     \n",
       "blue         0.716556  0.283688   0.885448\n",
       "green        0.759423  0.478723   0.624655\n",
       "purple       0.634872  0.086643   1.001186\n",
       "yellow       0.823912  0.627660   0.496609"
      ]
     },
     "execution_count": 451,
     "metadata": {},
     "output_type": "execute_result"
    }
   ],
   "source": [
    "# Find average correct by difficulty level\n",
    "grouped_repeat = merged.groupby('Color').mean()[['Probabilities', 'Correct', 'Surprisal']]\n",
    "grouped_repeat"
   ]
  },
  {
   "cell_type": "code",
   "execution_count": 452,
   "id": "1d45c5b6",
   "metadata": {},
   "outputs": [
    {
     "data": {
      "image/png": "[encoded data removed]",
      "text/plain": [
       "<Figure size 1000x600 with 1 Axes>"
      ]
     },
     "metadata": {},
     "output_type": "display_data"
    }
   ],
   "source": [
    "# Plotting the bar chart including repeats\n",
    "grouped_repeat.plot(kind='bar', figsize=(10, 6))\n",
    "plt.title('Mean Values by Color')\n",
    "plt.xlabel('Color')\n",
    "plt.ylabel('Mean Value')\n",
    "plt.xticks(rotation=45)\n",
    "plt.grid(axis='y')\n",
    "plt.legend(title='Attributes')\n",
    "plt.tight_layout()\n",
    "plt.show()"
   ]
  },
  {
   "cell_type": "code",
   "execution_count": 453,
   "id": "3411d3ba",
   "metadata": {
    "scrolled": true
   },
   "outputs": [
    {
     "data": {
      "text/html": [
       "<div>\n",
       "<style scoped>\n",
       "    .dataframe tbody tr th:only-of-type {\n",
       "        vertical-align: middle;\n",
       "    }\n",
       "\n",
       "    .dataframe tbody tr th {\n",
       "        vertical-align: top;\n",
       "    }\n",
       "\n",
       "    .dataframe thead th {\n",
       "        text-align: right;\n",
       "    }\n",
       "</style>\n",
       "<table border=\"1\" class=\"dataframe\">\n",
       "  <thead>\n",
       "    <tr style=\"text-align: right;\">\n",
       "      <th></th>\n",
       "      <th>Probabilities</th>\n",
       "      <th>Correct</th>\n",
       "      <th>Surprisal</th>\n",
       "    </tr>\n",
       "    <tr>\n",
       "      <th>Color</th>\n",
       "      <th></th>\n",
       "      <th></th>\n",
       "      <th></th>\n",
       "    </tr>\n",
       "  </thead>\n",
       "  <tbody>\n",
       "    <tr>\n",
       "      <th>blue</th>\n",
       "      <td>0.730311</td>\n",
       "      <td>0.346320</td>\n",
       "      <td>0.893291</td>\n",
       "    </tr>\n",
       "    <tr>\n",
       "      <th>green</th>\n",
       "      <td>0.779832</td>\n",
       "      <td>0.574468</td>\n",
       "      <td>0.606047</td>\n",
       "    </tr>\n",
       "    <tr>\n",
       "      <th>purple</th>\n",
       "      <td>0.640754</td>\n",
       "      <td>0.111628</td>\n",
       "      <td>1.012317</td>\n",
       "    </tr>\n",
       "    <tr>\n",
       "      <th>yellow</th>\n",
       "      <td>0.831028</td>\n",
       "      <td>0.688716</td>\n",
       "      <td>0.486053</td>\n",
       "    </tr>\n",
       "  </tbody>\n",
       "</table>\n",
       "</div>"
      ],
      "text/plain": [
       "        Probabilities   Correct  Surprisal\n",
       "Color                                     \n",
       "blue         0.730311  0.346320   0.893291\n",
       "green        0.779832  0.574468   0.606047\n",
       "purple       0.640754  0.111628   1.012317\n",
       "yellow       0.831028  0.688716   0.486053"
      ]
     },
     "execution_count": 453,
     "metadata": {},
     "output_type": "execute_result"
    }
   ],
   "source": [
    "# Filter out repeats and get difficulty results\n",
    "merged_filtered = merged[merged['Repeat'] == False]\n",
    "grouped_norepeat = merged_filtered.groupby('Color').mean()[['Probabilities', 'Correct', 'Surprisal']]\n",
    "grouped_norepeat"
   ]
  },
  {
   "cell_type": "code",
   "execution_count": 454,
   "id": "f2d57517",
   "metadata": {},
   "outputs": [
    {
     "data": {
      "image/png": "[encoded data removed]",
      "text/plain": [
       "<Figure size 1000x600 with 1 Axes>"
      ]
     },
     "metadata": {},
     "output_type": "display_data"
    }
   ],
   "source": [
    "# Plotting the bar chart\n",
    "grouped_norepeat.plot(kind='bar', figsize=(10, 6))\n",
    "plt.title('Mean Values by Color')\n",
    "plt.xlabel('Color')\n",
    "plt.ylabel('Mean Value')\n",
    "plt.xticks(rotation=45)\n",
    "plt.grid(axis='y')\n",
    "plt.legend(title='Attributes')\n",
    "plt.tight_layout()\n",
    "plt.show()"
   ]
  },
  {
   "cell_type": "code",
   "execution_count": 457,
   "id": "0b62f974",
   "metadata": {},
   "outputs": [
    {
     "data": {
      "text/html": [
       "<div>\n",
       "<style scoped>\n",
       "    .dataframe tbody tr th:only-of-type {\n",
       "        vertical-align: middle;\n",
       "    }\n",
       "\n",
       "    .dataframe tbody tr th {\n",
       "        vertical-align: top;\n",
       "    }\n",
       "\n",
       "    .dataframe thead th {\n",
       "        text-align: right;\n",
       "    }\n",
       "</style>\n",
       "<table border=\"1\" class=\"dataframe\">\n",
       "  <thead>\n",
       "    <tr style=\"text-align: right;\">\n",
       "      <th></th>\n",
       "      <th>Surprisal</th>\n",
       "    </tr>\n",
       "    <tr>\n",
       "      <th>Correct</th>\n",
       "      <th></th>\n",
       "    </tr>\n",
       "  </thead>\n",
       "  <tbody>\n",
       "    <tr>\n",
       "      <th>False</th>\n",
       "      <td>1.062001</td>\n",
       "    </tr>\n",
       "    <tr>\n",
       "      <th>True</th>\n",
       "      <td>0.222083</td>\n",
       "    </tr>\n",
       "  </tbody>\n",
       "</table>\n",
       "</div>"
      ],
      "text/plain": [
       "         Surprisal\n",
       "Correct           \n",
       "False     1.062001\n",
       "True      0.222083"
      ]
     },
     "execution_count": 457,
     "metadata": {},
     "output_type": "execute_result"
    }
   ],
   "source": [
    "# Group by whether GPT guessed correctly\n",
    "grouped_correct = merged.groupby('Correct').mean()[['Surprisal']]\n",
    "grouped_correct"
   ]
  },
  {
   "cell_type": "code",
   "execution_count": 463,
   "id": "c8dac850",
   "metadata": {
    "scrolled": true
   },
   "outputs": [
    {
     "data": {
      "text/plain": [
       "<Axes: xlabel='Correct', ylabel='Surprisal'>"
      ]
     },
     "execution_count": 463,
     "metadata": {},
     "output_type": "execute_result"
    },
    {
     "data": {
      "image/png": "[encoded data removed]",
      "text/plain": [
       "<Figure size 640x480 with 1 Axes>"
      ]
     },
     "metadata": {},
     "output_type": "display_data"
    }
   ],
   "source": [
    "sns.barplot(data = merged, x = \"Correct\", y = \"Surprisal\")"
   ]
  },
  {
   "cell_type": "code",
   "execution_count": 464,
   "id": "0ec5717d",
   "metadata": {},
   "outputs": [
    {
     "data": {
      "text/plain": [
       "<Axes: xlabel='Color', ylabel='Surprisal'>"
      ]
     },
     "execution_count": 464,
     "metadata": {},
     "output_type": "execute_result"
    },
    {
     "data": {
      "image/png": "[encoded data removed]",
      "text/plain": [
       "<Figure size 640x480 with 1 Axes>"
      ]
     },
     "metadata": {},
     "output_type": "display_data"
    }
   ],
   "source": [
    "sns.barplot(data = merged, x = \"Color\", y = \"Surprisal\")"
   ]
  }
 ],
 "metadata": {
  "kernelspec": {
   "display_name": "Python 3 (ipykernel)",
   "language": "python",
   "name": "python3"
  },
  "language_info": {
   "codemirror_mode": {
    "name": "ipython",
    "version": 3
   },
   "file_extension": ".py",
   "mimetype": "text/x-python",
   "name": "python",
   "nbconvert_exporter": "python",
   "pygments_lexer": "ipython3",
   "version": "3.10.9"
  }
 },
 "nbformat": 4,
 "nbformat_minor": 5
}
